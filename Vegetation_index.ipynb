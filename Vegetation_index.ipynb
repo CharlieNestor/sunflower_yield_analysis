{
 "cells": [
  {
   "cell_type": "markdown",
   "metadata": {},
   "source": [
    "# Vegetation Vigor Index"
   ]
  },
  {
   "cell_type": "code",
   "execution_count": 1,
   "metadata": {},
   "outputs": [],
   "source": [
    "import os\n",
    "import ee\n",
    "import geemap\n",
    "import rasterio\n",
    "import datetime\n",
    "import numpy as np\n",
    "import matplotlib.pyplot as plt\n",
    "from scipy import stats\n",
    "from shapely.geometry import MultiPoint\n",
    "from dotenv import load_dotenv"
   ]
  },
  {
   "cell_type": "markdown",
   "metadata": {},
   "source": [
    "NB: In order to run this script, you need to have the Earth Engine API initialised in your environment and also have a project created in the Google Cloud Platform with the Earth Engine API enabled. Its name is stored in the .env file as `EARTHENGINE_PROJECT_NAME`."
   ]
  },
  {
   "cell_type": "code",
   "execution_count": 2,
   "metadata": {},
   "outputs": [
    {
     "data": {
      "text/html": [
       "\n",
       "            <style>\n",
       "                .geemap-dark {\n",
       "                    --jp-widgets-color: white;\n",
       "                    --jp-widgets-label-color: white;\n",
       "                    --jp-ui-font-color1: white;\n",
       "                    --jp-layout-color2: #454545;\n",
       "                    background-color: #383838;\n",
       "                }\n",
       "\n",
       "                .geemap-dark .jupyter-button {\n",
       "                    --jp-layout-color3: #383838;\n",
       "                }\n",
       "\n",
       "                .geemap-colab {\n",
       "                    background-color: var(--colab-primary-surface-color, white);\n",
       "                }\n",
       "\n",
       "                .geemap-colab .jupyter-button {\n",
       "                    --jp-layout-color3: var(--colab-primary-surface-color, white);\n",
       "                }\n",
       "            </style>\n",
       "            "
      ],
      "text/plain": [
       "<IPython.core.display.HTML object>"
      ]
     },
     "metadata": {},
     "output_type": "display_data"
    }
   ],
   "source": [
    "# Initialization of variables\n",
    "load_dotenv()\n",
    "ee.Initialize(project=os.getenv(\"EARTHENGINE_PROJECT_NAME\"))"
   ]
  },
  {
   "cell_type": "markdown",
   "metadata": {},
   "source": [
    "Let's load the yield data and create a region from the relevant points. It will be a convex hull of the valid yield data points."
   ]
  },
  {
   "cell_type": "code",
   "execution_count": 3,
   "metadata": {},
   "outputs": [
    {
     "data": {
      "text/html": [
       "\n",
       "            <style>\n",
       "                .geemap-dark {\n",
       "                    --jp-widgets-color: white;\n",
       "                    --jp-widgets-label-color: white;\n",
       "                    --jp-ui-font-color1: white;\n",
       "                    --jp-layout-color2: #454545;\n",
       "                    background-color: #383838;\n",
       "                }\n",
       "\n",
       "                .geemap-dark .jupyter-button {\n",
       "                    --jp-layout-color3: #383838;\n",
       "                }\n",
       "\n",
       "                .geemap-colab {\n",
       "                    background-color: var(--colab-primary-surface-color, white);\n",
       "                }\n",
       "\n",
       "                .geemap-colab .jupyter-button {\n",
       "                    --jp-layout-color3: var(--colab-primary-surface-color, white);\n",
       "                }\n",
       "            </style>\n",
       "            "
      ],
      "text/plain": [
       "<IPython.core.display.HTML object>"
      ]
     },
     "metadata": {},
     "output_type": "display_data"
    }
   ],
   "source": [
    "with rasterio.open('Data/interpolated_yield_4326.tif') as src:\n",
    "    interpolated_yield = src.read(1)  # Assuming it's a single band raster\n",
    "    \n",
    "    # Create a mask for non-NaN and non-nodata values\n",
    "    yield_mask = (interpolated_yield != src.nodata) & (~np.isnan(interpolated_yield))\n",
    "    \n",
    "    # Get coordinates of non-NaN points\n",
    "    rows, cols = np.where(yield_mask)\n",
    "    coords = [src.xy(row, col) for row, col in zip(rows, cols)]\n",
    "\n",
    "    # Get the exact bounds and resolution from the yield data\n",
    "    yield_bounds = src.bounds\n",
    "    yield_shape = src.shape\n",
    "    resolution = src.res\n",
    "    yield_transform = src.transform\n",
    "    yield_crs = src.crs\n",
    "\n",
    "# Create a convex hull of all the non-NaN yield data points\n",
    "yield_hull = MultiPoint(coords).convex_hull\n",
    "\n",
    "# Add a buffer to the convex hull\n",
    "buffer_size = 5 / 111320  # Adjust this value as needed (in degrees)\n",
    "yield_hull_buffered = yield_hull.buffer(buffer_size)\n",
    "\n",
    "# Convert the buffered convex hull to an Earth Engine geometry\n",
    "aoi_coords = list(yield_hull_buffered.exterior.coords)\n",
    "aoi = ee.Geometry.Polygon(aoi_coords)"
   ]
  },
  {
   "cell_type": "code",
   "execution_count": 4,
   "metadata": {},
   "outputs": [
    {
     "data": {
      "text/html": [
       "\n",
       "            <style>\n",
       "                .geemap-dark {\n",
       "                    --jp-widgets-color: white;\n",
       "                    --jp-widgets-label-color: white;\n",
       "                    --jp-ui-font-color1: white;\n",
       "                    --jp-layout-color2: #454545;\n",
       "                    background-color: #383838;\n",
       "                }\n",
       "\n",
       "                .geemap-dark .jupyter-button {\n",
       "                    --jp-layout-color3: #383838;\n",
       "                }\n",
       "\n",
       "                .geemap-colab {\n",
       "                    background-color: var(--colab-primary-surface-color, white);\n",
       "                }\n",
       "\n",
       "                .geemap-colab .jupyter-button {\n",
       "                    --jp-layout-color3: var(--colab-primary-surface-color, white);\n",
       "                }\n",
       "            </style>\n",
       "            "
      ],
      "text/plain": [
       "<IPython.core.display.HTML object>"
      ]
     },
     "metadata": {},
     "output_type": "display_data"
    }
   ],
   "source": [
    "# Function to calculate GCVI\n",
    "def calculateGCVI(image):\n",
    "    gcvi = image.expression(\n",
    "        '(NIR / GREEN) - 1',\n",
    "        {\n",
    "            'NIR': image.select('B8'),\n",
    "            'GREEN': image.select('B3')\n",
    "        }\n",
    "    ).rename('GCVI')\n",
    "    return image.addBands(gcvi)\n",
    "\n",
    "# Function to calculate NDVI\n",
    "def calculateNDVI(image):\n",
    "    ndvi = image.normalizedDifference(['B8', 'B4']).rename('NDVI')\n",
    "    return image.addBands(ndvi)"
   ]
  },
  {
   "cell_type": "code",
   "execution_count": 5,
   "metadata": {},
   "outputs": [
    {
     "data": {
      "text/html": [
       "\n",
       "            <style>\n",
       "                .geemap-dark {\n",
       "                    --jp-widgets-color: white;\n",
       "                    --jp-widgets-label-color: white;\n",
       "                    --jp-ui-font-color1: white;\n",
       "                    --jp-layout-color2: #454545;\n",
       "                    background-color: #383838;\n",
       "                }\n",
       "\n",
       "                .geemap-dark .jupyter-button {\n",
       "                    --jp-layout-color3: #383838;\n",
       "                }\n",
       "\n",
       "                .geemap-colab {\n",
       "                    background-color: var(--colab-primary-surface-color, white);\n",
       "                }\n",
       "\n",
       "                .geemap-colab .jupyter-button {\n",
       "                    --jp-layout-color3: var(--colab-primary-surface-color, white);\n",
       "                }\n",
       "            </style>\n",
       "            "
      ],
      "text/plain": [
       "<IPython.core.display.HTML object>"
      ]
     },
     "metadata": {},
     "output_type": "display_data"
    }
   ],
   "source": [
    "# Set the fixed end date to August 31, 2022\n",
    "end_date = datetime.datetime(2022, 8, 31)\n",
    "start_date = end_date - datetime.timedelta(days=365)\n",
    "\n",
    "# Get Sentinel-2 imagery for the last year\n",
    "collection = (ee.ImageCollection('COPERNICUS/S2_SR_HARMONIZED')\n",
    "              .filterBounds(aoi)\n",
    "              .filterDate(ee.Date(start_date.strftime('%Y-%m-%d')), ee.Date(end_date.strftime('%Y-%m-%d')))\n",
    "              .filter(ee.Filter.lt('CLOUDY_PIXEL_PERCENTAGE', 20))\n",
    "              .map(calculateGCVI))\n",
    "\n",
    "# Calculate average Vegetation vigor index\n",
    "avg_index = collection.select('GCVI').mean()"
   ]
  },
  {
   "cell_type": "markdown",
   "metadata": {},
   "source": [
    "The idea would be to retrieve the collection of images focused only on the aoi (area of interest) as defined above."
   ]
  },
  {
   "cell_type": "code",
   "execution_count": 6,
   "metadata": {},
   "outputs": [
    {
     "data": {
      "text/html": [
       "\n",
       "            <style>\n",
       "                .geemap-dark {\n",
       "                    --jp-widgets-color: white;\n",
       "                    --jp-widgets-label-color: white;\n",
       "                    --jp-ui-font-color1: white;\n",
       "                    --jp-layout-color2: #454545;\n",
       "                    background-color: #383838;\n",
       "                }\n",
       "\n",
       "                .geemap-dark .jupyter-button {\n",
       "                    --jp-layout-color3: #383838;\n",
       "                }\n",
       "\n",
       "                .geemap-colab {\n",
       "                    background-color: var(--colab-primary-surface-color, white);\n",
       "                }\n",
       "\n",
       "                .geemap-colab .jupyter-button {\n",
       "                    --jp-layout-color3: var(--colab-primary-surface-color, white);\n",
       "                }\n",
       "            </style>\n",
       "            "
      ],
      "text/plain": [
       "<IPython.core.display.HTML object>"
      ]
     },
     "metadata": {},
     "output_type": "display_data"
    },
    {
     "name": "stdout",
     "output_type": "stream",
     "text": [
      "Generating URL ...\n",
      "Downloading data from https://earthengine.googleapis.com/v1/projects/ee-rurall-baroni89/thumbnails/c243b9605ca444fd32786038fc81251b-6e05c578b81f131f384dae22bcff01d2:getPixels\n",
      "Please wait ...\n",
      "Data downloaded to /Users/carlonestor/Documents/GitHub/sunflower_yield_analysis/Data/average_ndvi.tif\n"
     ]
    }
   ],
   "source": [
    "# Use the original yield bounds for exporting the NDVI tif\n",
    "export_region = ee.Geometry.Rectangle(list(yield_bounds))\n",
    "\n",
    "# Export the image locally using geemap\n",
    "geemap.ee_export_image(\n",
    "    avg_index,\n",
    "    filename='Data/average_ndvi.tif',\n",
    "    region=export_region,\n",
    "    crs='EPSG:4326',\n",
    "    crs_transform=[resolution[0], 0, yield_bounds.left, 0, -resolution[1], yield_bounds.top],\n",
    "    #dimensions=[yield_shape[0], yield_shape[1]],\n",
    "    file_per_band=False,\n",
    ")"
   ]
  },
  {
   "cell_type": "code",
   "execution_count": 7,
   "metadata": {},
   "outputs": [
    {
     "data": {
      "text/html": [
       "\n",
       "            <style>\n",
       "                .geemap-dark {\n",
       "                    --jp-widgets-color: white;\n",
       "                    --jp-widgets-label-color: white;\n",
       "                    --jp-ui-font-color1: white;\n",
       "                    --jp-layout-color2: #454545;\n",
       "                    background-color: #383838;\n",
       "                }\n",
       "\n",
       "                .geemap-dark .jupyter-button {\n",
       "                    --jp-layout-color3: #383838;\n",
       "                }\n",
       "\n",
       "                .geemap-colab {\n",
       "                    background-color: var(--colab-primary-surface-color, white);\n",
       "                }\n",
       "\n",
       "                .geemap-colab .jupyter-button {\n",
       "                    --jp-layout-color3: var(--colab-primary-surface-color, white);\n",
       "                }\n",
       "            </style>\n",
       "            "
      ],
      "text/plain": [
       "<IPython.core.display.HTML object>"
      ]
     },
     "metadata": {},
     "output_type": "display_data"
    },
    {
     "name": "stdout",
     "output_type": "stream",
     "text": [
      "Metadata for Data/interpolated_yield_4326.tif:\n",
      "CRS: EPSG:4326\n",
      "Resolution: (8.983111749910169e-05, 8.983111749910169e-05)\n",
      "Bounds: BoundingBox(left=11.964872146635857, bottom=44.847339020977785, right=11.983197694605673, top=44.85102209679525)\n",
      "Shape: (41, 204)\n",
      "\n",
      "\n",
      "Metadata for Data/average_ndvi.tif:\n",
      "CRS: EPSG:4326\n",
      "Resolution: (8.983111749910169e-05, 8.983111749910169e-05)\n",
      "Bounds: BoundingBox(left=11.964872146635857, bottom=44.847249189860285, right=11.983287525723172, top=44.85102209679525)\n",
      "Shape: (42, 205)\n",
      "\n",
      "\n"
     ]
    }
   ],
   "source": [
    "# Function to print raster metadata\n",
    "def print_raster_info(filepath):\n",
    "    with rasterio.open(filepath) as src:\n",
    "        print(f\"Metadata for {filepath}:\")\n",
    "        print(f\"CRS: {src.crs}\")\n",
    "        print(f\"Resolution: {src.res}\")\n",
    "        print(f\"Bounds: {src.bounds}\")\n",
    "        print(f\"Shape: {src.shape}\")\n",
    "        print(\"\\n\")\n",
    "\n",
    "# Check metadata for both files\n",
    "print_raster_info('Data/interpolated_yield_4326.tif')\n",
    "print_raster_info('Data/average_ndvi.tif')"
   ]
  },
  {
   "cell_type": "markdown",
   "metadata": {},
   "source": [
    "The first problem is that the two pictures in .tif must have the same resolution, shape, crs to be used together. As we can see above, this is not the case. There are some slight differences that needs to be taken care of."
   ]
  },
  {
   "cell_type": "markdown",
   "metadata": {},
   "source": [
    "The differences can be re-aligned by force, but the underlying real issue is that the images collected from the satellite show a different area (a polygon or rectangle rather than the triangular field). Hence, also the following correlation analysis is not correct."
   ]
  },
  {
   "cell_type": "markdown",
   "metadata": {},
   "source": [
    "For sure the problem lies in the inconsistency of the two images. We tried to solve it by having them in the same format, but it did not work."
   ]
  },
  {
   "cell_type": "code",
   "execution_count": 15,
   "metadata": {},
   "outputs": [
    {
     "data": {
      "text/html": [
       "\n",
       "            <style>\n",
       "                .geemap-dark {\n",
       "                    --jp-widgets-color: white;\n",
       "                    --jp-widgets-label-color: white;\n",
       "                    --jp-ui-font-color1: white;\n",
       "                    --jp-layout-color2: #454545;\n",
       "                    background-color: #383838;\n",
       "                }\n",
       "\n",
       "                .geemap-dark .jupyter-button {\n",
       "                    --jp-layout-color3: #383838;\n",
       "                }\n",
       "\n",
       "                .geemap-colab {\n",
       "                    background-color: var(--colab-primary-surface-color, white);\n",
       "                }\n",
       "\n",
       "                .geemap-colab .jupyter-button {\n",
       "                    --jp-layout-color3: var(--colab-primary-surface-color, white);\n",
       "                }\n",
       "            </style>\n",
       "            "
      ],
      "text/plain": [
       "<IPython.core.display.HTML object>"
      ]
     },
     "metadata": {},
     "output_type": "display_data"
    },
    {
     "name": "stdout",
     "output_type": "stream",
     "text": [
      "Data shapes match: (40, 203)\n"
     ]
    }
   ],
   "source": [
    "# Load both datasets\n",
    "with rasterio.open('Data/interpolated_yield_4326.tif') as yield_src, \\\n",
    "     rasterio.open('Data/average_ndvi.tif') as ndvi_src:\n",
    "    \n",
    "    yield_data = yield_src.read(1)\n",
    "    ndvi_data = ndvi_src.read(1)\n",
    "    \n",
    "    # Check if shapes match\n",
    "    if yield_data.shape != ndvi_data.shape:\n",
    "        raise ValueError(f\"Shape mismatch: Yield data shape {yield_data.shape} does not match NDVI data shape {ndvi_data.shape}\")\n",
    "    \n",
    "    print(f\"Data shapes match: {yield_data.shape}\")\n",
    "    \n",
    "    # Flatten the arrays\n",
    "    yield_valid = yield_data.flatten()\n",
    "    ndvi_valid = ndvi_data.flatten()"
   ]
  },
  {
   "cell_type": "code",
   "execution_count": null,
   "metadata": {},
   "outputs": [],
   "source": [
    "# Calculate correlation\n",
    "correlation, p_value = stats.pearsonr(yield_valid, ndvi_valid)\n",
    "print(f\"\\nCorrelation coefficient: {correlation}\")\n",
    "print(f\"P-value: {p_value}\")\n",
    "\n",
    "# Create a scatter plot\n",
    "plt.figure(figsize=(10, 8))\n",
    "plt.scatter(ndvi_valid, yield_valid, alpha=0.1)\n",
    "plt.xlabel('Average NDVI')\n",
    "plt.ylabel('Yield')\n",
    "plt.title('Yield vs Average NDVI')\n",
    "plt.show()"
   ]
  }
 ],
 "metadata": {
  "kernelspec": {
   "display_name": "rurall",
   "language": "python",
   "name": "python3"
  },
  "language_info": {
   "codemirror_mode": {
    "name": "ipython",
    "version": 3
   },
   "file_extension": ".py",
   "mimetype": "text/x-python",
   "name": "python",
   "nbconvert_exporter": "python",
   "pygments_lexer": "ipython3",
   "version": "3.10.12"
  }
 },
 "nbformat": 4,
 "nbformat_minor": 2
}
